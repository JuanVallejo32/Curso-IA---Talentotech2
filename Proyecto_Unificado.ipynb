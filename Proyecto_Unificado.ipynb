{
  "nbformat": 4,
  "nbformat_minor": 0,
  "metadata": {
    "colab": {
      "provenance": [],
      "include_colab_link": true
    },
    "kernelspec": {
      "name": "python3",
      "display_name": "Python 3"
    },
    "language_info": {
      "name": "python"
    }
  },
  "cells": [
    {
      "cell_type": "markdown",
      "metadata": {
        "id": "view-in-github",
        "colab_type": "text"
      },
      "source": [
        "<a href=\"https://colab.research.google.com/github/JuanVallejo32/Curso-IA---Talentotech2/blob/main/Proyecto_Unificado.ipynb\" target=\"_parent\"><img src=\"https://colab.research.google.com/assets/colab-badge.svg\" alt=\"Open In Colab\"/></a>"
      ]
    },
    {
      "cell_type": "code",
      "execution_count": 45,
      "metadata": {
        "id": "Bx4PTXSt5wjW"
      },
      "outputs": [],
      "source": [
        "#Importar librerías\n",
        "import pandas as pd\n",
        "import numpy as np\n",
        "import matplotlib.pyplot as plt\n",
        "import seaborn as sns\n",
        "import pickle\n",
        "from scipy.stats import pearsonr\n",
        "from sklearn.metrics import confusion_matrix\n",
        "from sklearn.model_selection import train_test_split\n",
        "from sklearn.linear_model import LinearRegression\n",
        "from sklearn.naive_bayes import GaussianNB\n",
        "from sklearn.metrics import accuracy_score, confusion_matrix, classification_report, roc_curve, roc_auc_score\n",
        "from sklearn.metrics import mean_squared_error, r2_score\n",
        "from sklearn.model_selection import cross_val_score\n",
        "from sklearn.tree import DecisionTreeRegressor\n",
        "from sklearn.ensemble import RandomForestRegressor"
      ]
    },
    {
      "cell_type": "code",
      "source": [
        "#Leer y crear una copia del dataset\n",
        "data1 = pd.read_excel('dataset_agri.xlsx')\n",
        "data = data1.copy()\n",
        "data"
      ],
      "metadata": {
        "colab": {
          "base_uri": "https://localhost:8080/",
          "height": 423
        },
        "id": "vIpXLaQ9579M",
        "outputId": "2a4da8bd-d964-4d82-fef6-4db91fa528c3",
        "collapsed": true
      },
      "execution_count": 30,
      "outputs": [
        {
          "output_type": "execute_result",
          "data": {
            "text/plain": [
              "      Año     Departamento Producto  Area (ha)  Produccion (ton)  \\\n",
              "0    2007        ANTIOQUIA     CAFE  112343.60         120500.80   \n",
              "1    2007          BOLIVAR     CAFE     502.00            446.00   \n",
              "2    2007           BOYACA     CAFE   11374.50           9683.10   \n",
              "3    2007           CALDAS     CAFE   78393.65          92815.00   \n",
              "4    2007          CAQUETA     CAFE    2295.00           2134.00   \n",
              "..    ...              ...      ...        ...               ...   \n",
              "355  2022        RISARALDA     CAFE   33376.97          33387.59   \n",
              "356  2022        SANTANDER     CAFE   44378.29          45048.58   \n",
              "357  2022            SUCRE     CAFE       0.00              0.00   \n",
              "358  2022           TOLIMA     CAFE   90110.73          76413.90   \n",
              "359  2022  VALLE DEL CAUCA     CAFE   42929.23          37093.76   \n",
              "\n",
              "     Rendimiento (ha/ton)  Produccion Nacional (ton)  Area Nacional (ha)  \n",
              "0                    1.07                      14.54               14.66  \n",
              "1                    0.89                       0.05                0.07  \n",
              "2                    0.85                       1.17                1.48  \n",
              "3                    1.18                      11.20               10.23  \n",
              "4                    0.93                       0.26                0.30  \n",
              "..                    ...                        ...                 ...  \n",
              "355                  1.00                       4.98                4.77  \n",
              "356                  1.02                       6.73                6.35  \n",
              "357                  0.00                       0.00                0.00  \n",
              "358                  0.85                      11.41               12.89  \n",
              "359                  0.86                       5.54                6.14  \n",
              "\n",
              "[360 rows x 8 columns]"
            ],
            "text/html": [
              "\n",
              "  <div id=\"df-c6be4d95-61ad-4d41-a459-f2b0365c0389\" class=\"colab-df-container\">\n",
              "    <div>\n",
              "<style scoped>\n",
              "    .dataframe tbody tr th:only-of-type {\n",
              "        vertical-align: middle;\n",
              "    }\n",
              "\n",
              "    .dataframe tbody tr th {\n",
              "        vertical-align: top;\n",
              "    }\n",
              "\n",
              "    .dataframe thead th {\n",
              "        text-align: right;\n",
              "    }\n",
              "</style>\n",
              "<table border=\"1\" class=\"dataframe\">\n",
              "  <thead>\n",
              "    <tr style=\"text-align: right;\">\n",
              "      <th></th>\n",
              "      <th>Año</th>\n",
              "      <th>Departamento</th>\n",
              "      <th>Producto</th>\n",
              "      <th>Area (ha)</th>\n",
              "      <th>Produccion (ton)</th>\n",
              "      <th>Rendimiento (ha/ton)</th>\n",
              "      <th>Produccion Nacional (ton)</th>\n",
              "      <th>Area Nacional (ha)</th>\n",
              "    </tr>\n",
              "  </thead>\n",
              "  <tbody>\n",
              "    <tr>\n",
              "      <th>0</th>\n",
              "      <td>2007</td>\n",
              "      <td>ANTIOQUIA</td>\n",
              "      <td>CAFE</td>\n",
              "      <td>112343.60</td>\n",
              "      <td>120500.80</td>\n",
              "      <td>1.07</td>\n",
              "      <td>14.54</td>\n",
              "      <td>14.66</td>\n",
              "    </tr>\n",
              "    <tr>\n",
              "      <th>1</th>\n",
              "      <td>2007</td>\n",
              "      <td>BOLIVAR</td>\n",
              "      <td>CAFE</td>\n",
              "      <td>502.00</td>\n",
              "      <td>446.00</td>\n",
              "      <td>0.89</td>\n",
              "      <td>0.05</td>\n",
              "      <td>0.07</td>\n",
              "    </tr>\n",
              "    <tr>\n",
              "      <th>2</th>\n",
              "      <td>2007</td>\n",
              "      <td>BOYACA</td>\n",
              "      <td>CAFE</td>\n",
              "      <td>11374.50</td>\n",
              "      <td>9683.10</td>\n",
              "      <td>0.85</td>\n",
              "      <td>1.17</td>\n",
              "      <td>1.48</td>\n",
              "    </tr>\n",
              "    <tr>\n",
              "      <th>3</th>\n",
              "      <td>2007</td>\n",
              "      <td>CALDAS</td>\n",
              "      <td>CAFE</td>\n",
              "      <td>78393.65</td>\n",
              "      <td>92815.00</td>\n",
              "      <td>1.18</td>\n",
              "      <td>11.20</td>\n",
              "      <td>10.23</td>\n",
              "    </tr>\n",
              "    <tr>\n",
              "      <th>4</th>\n",
              "      <td>2007</td>\n",
              "      <td>CAQUETA</td>\n",
              "      <td>CAFE</td>\n",
              "      <td>2295.00</td>\n",
              "      <td>2134.00</td>\n",
              "      <td>0.93</td>\n",
              "      <td>0.26</td>\n",
              "      <td>0.30</td>\n",
              "    </tr>\n",
              "    <tr>\n",
              "      <th>...</th>\n",
              "      <td>...</td>\n",
              "      <td>...</td>\n",
              "      <td>...</td>\n",
              "      <td>...</td>\n",
              "      <td>...</td>\n",
              "      <td>...</td>\n",
              "      <td>...</td>\n",
              "      <td>...</td>\n",
              "    </tr>\n",
              "    <tr>\n",
              "      <th>355</th>\n",
              "      <td>2022</td>\n",
              "      <td>RISARALDA</td>\n",
              "      <td>CAFE</td>\n",
              "      <td>33376.97</td>\n",
              "      <td>33387.59</td>\n",
              "      <td>1.00</td>\n",
              "      <td>4.98</td>\n",
              "      <td>4.77</td>\n",
              "    </tr>\n",
              "    <tr>\n",
              "      <th>356</th>\n",
              "      <td>2022</td>\n",
              "      <td>SANTANDER</td>\n",
              "      <td>CAFE</td>\n",
              "      <td>44378.29</td>\n",
              "      <td>45048.58</td>\n",
              "      <td>1.02</td>\n",
              "      <td>6.73</td>\n",
              "      <td>6.35</td>\n",
              "    </tr>\n",
              "    <tr>\n",
              "      <th>357</th>\n",
              "      <td>2022</td>\n",
              "      <td>SUCRE</td>\n",
              "      <td>CAFE</td>\n",
              "      <td>0.00</td>\n",
              "      <td>0.00</td>\n",
              "      <td>0.00</td>\n",
              "      <td>0.00</td>\n",
              "      <td>0.00</td>\n",
              "    </tr>\n",
              "    <tr>\n",
              "      <th>358</th>\n",
              "      <td>2022</td>\n",
              "      <td>TOLIMA</td>\n",
              "      <td>CAFE</td>\n",
              "      <td>90110.73</td>\n",
              "      <td>76413.90</td>\n",
              "      <td>0.85</td>\n",
              "      <td>11.41</td>\n",
              "      <td>12.89</td>\n",
              "    </tr>\n",
              "    <tr>\n",
              "      <th>359</th>\n",
              "      <td>2022</td>\n",
              "      <td>VALLE DEL CAUCA</td>\n",
              "      <td>CAFE</td>\n",
              "      <td>42929.23</td>\n",
              "      <td>37093.76</td>\n",
              "      <td>0.86</td>\n",
              "      <td>5.54</td>\n",
              "      <td>6.14</td>\n",
              "    </tr>\n",
              "  </tbody>\n",
              "</table>\n",
              "<p>360 rows × 8 columns</p>\n",
              "</div>\n",
              "    <div class=\"colab-df-buttons\">\n",
              "\n",
              "  <div class=\"colab-df-container\">\n",
              "    <button class=\"colab-df-convert\" onclick=\"convertToInteractive('df-c6be4d95-61ad-4d41-a459-f2b0365c0389')\"\n",
              "            title=\"Convert this dataframe to an interactive table.\"\n",
              "            style=\"display:none;\">\n",
              "\n",
              "  <svg xmlns=\"http://www.w3.org/2000/svg\" height=\"24px\" viewBox=\"0 -960 960 960\">\n",
              "    <path d=\"M120-120v-720h720v720H120Zm60-500h600v-160H180v160Zm220 220h160v-160H400v160Zm0 220h160v-160H400v160ZM180-400h160v-160H180v160Zm440 0h160v-160H620v160ZM180-180h160v-160H180v160Zm440 0h160v-160H620v160Z\"/>\n",
              "  </svg>\n",
              "    </button>\n",
              "\n",
              "  <style>\n",
              "    .colab-df-container {\n",
              "      display:flex;\n",
              "      gap: 12px;\n",
              "    }\n",
              "\n",
              "    .colab-df-convert {\n",
              "      background-color: #E8F0FE;\n",
              "      border: none;\n",
              "      border-radius: 50%;\n",
              "      cursor: pointer;\n",
              "      display: none;\n",
              "      fill: #1967D2;\n",
              "      height: 32px;\n",
              "      padding: 0 0 0 0;\n",
              "      width: 32px;\n",
              "    }\n",
              "\n",
              "    .colab-df-convert:hover {\n",
              "      background-color: #E2EBFA;\n",
              "      box-shadow: 0px 1px 2px rgba(60, 64, 67, 0.3), 0px 1px 3px 1px rgba(60, 64, 67, 0.15);\n",
              "      fill: #174EA6;\n",
              "    }\n",
              "\n",
              "    .colab-df-buttons div {\n",
              "      margin-bottom: 4px;\n",
              "    }\n",
              "\n",
              "    [theme=dark] .colab-df-convert {\n",
              "      background-color: #3B4455;\n",
              "      fill: #D2E3FC;\n",
              "    }\n",
              "\n",
              "    [theme=dark] .colab-df-convert:hover {\n",
              "      background-color: #434B5C;\n",
              "      box-shadow: 0px 1px 3px 1px rgba(0, 0, 0, 0.15);\n",
              "      filter: drop-shadow(0px 1px 2px rgba(0, 0, 0, 0.3));\n",
              "      fill: #FFFFFF;\n",
              "    }\n",
              "  </style>\n",
              "\n",
              "    <script>\n",
              "      const buttonEl =\n",
              "        document.querySelector('#df-c6be4d95-61ad-4d41-a459-f2b0365c0389 button.colab-df-convert');\n",
              "      buttonEl.style.display =\n",
              "        google.colab.kernel.accessAllowed ? 'block' : 'none';\n",
              "\n",
              "      async function convertToInteractive(key) {\n",
              "        const element = document.querySelector('#df-c6be4d95-61ad-4d41-a459-f2b0365c0389');\n",
              "        const dataTable =\n",
              "          await google.colab.kernel.invokeFunction('convertToInteractive',\n",
              "                                                    [key], {});\n",
              "        if (!dataTable) return;\n",
              "\n",
              "        const docLinkHtml = 'Like what you see? Visit the ' +\n",
              "          '<a target=\"_blank\" href=https://colab.research.google.com/notebooks/data_table.ipynb>data table notebook</a>'\n",
              "          + ' to learn more about interactive tables.';\n",
              "        element.innerHTML = '';\n",
              "        dataTable['output_type'] = 'display_data';\n",
              "        await google.colab.output.renderOutput(dataTable, element);\n",
              "        const docLink = document.createElement('div');\n",
              "        docLink.innerHTML = docLinkHtml;\n",
              "        element.appendChild(docLink);\n",
              "      }\n",
              "    </script>\n",
              "  </div>\n",
              "\n",
              "\n",
              "<div id=\"df-c33474b8-227a-4175-84a6-09c4c63e186b\">\n",
              "  <button class=\"colab-df-quickchart\" onclick=\"quickchart('df-c33474b8-227a-4175-84a6-09c4c63e186b')\"\n",
              "            title=\"Suggest charts\"\n",
              "            style=\"display:none;\">\n",
              "\n",
              "<svg xmlns=\"http://www.w3.org/2000/svg\" height=\"24px\"viewBox=\"0 0 24 24\"\n",
              "     width=\"24px\">\n",
              "    <g>\n",
              "        <path d=\"M19 3H5c-1.1 0-2 .9-2 2v14c0 1.1.9 2 2 2h14c1.1 0 2-.9 2-2V5c0-1.1-.9-2-2-2zM9 17H7v-7h2v7zm4 0h-2V7h2v10zm4 0h-2v-4h2v4z\"/>\n",
              "    </g>\n",
              "</svg>\n",
              "  </button>\n",
              "\n",
              "<style>\n",
              "  .colab-df-quickchart {\n",
              "      --bg-color: #E8F0FE;\n",
              "      --fill-color: #1967D2;\n",
              "      --hover-bg-color: #E2EBFA;\n",
              "      --hover-fill-color: #174EA6;\n",
              "      --disabled-fill-color: #AAA;\n",
              "      --disabled-bg-color: #DDD;\n",
              "  }\n",
              "\n",
              "  [theme=dark] .colab-df-quickchart {\n",
              "      --bg-color: #3B4455;\n",
              "      --fill-color: #D2E3FC;\n",
              "      --hover-bg-color: #434B5C;\n",
              "      --hover-fill-color: #FFFFFF;\n",
              "      --disabled-bg-color: #3B4455;\n",
              "      --disabled-fill-color: #666;\n",
              "  }\n",
              "\n",
              "  .colab-df-quickchart {\n",
              "    background-color: var(--bg-color);\n",
              "    border: none;\n",
              "    border-radius: 50%;\n",
              "    cursor: pointer;\n",
              "    display: none;\n",
              "    fill: var(--fill-color);\n",
              "    height: 32px;\n",
              "    padding: 0;\n",
              "    width: 32px;\n",
              "  }\n",
              "\n",
              "  .colab-df-quickchart:hover {\n",
              "    background-color: var(--hover-bg-color);\n",
              "    box-shadow: 0 1px 2px rgba(60, 64, 67, 0.3), 0 1px 3px 1px rgba(60, 64, 67, 0.15);\n",
              "    fill: var(--button-hover-fill-color);\n",
              "  }\n",
              "\n",
              "  .colab-df-quickchart-complete:disabled,\n",
              "  .colab-df-quickchart-complete:disabled:hover {\n",
              "    background-color: var(--disabled-bg-color);\n",
              "    fill: var(--disabled-fill-color);\n",
              "    box-shadow: none;\n",
              "  }\n",
              "\n",
              "  .colab-df-spinner {\n",
              "    border: 2px solid var(--fill-color);\n",
              "    border-color: transparent;\n",
              "    border-bottom-color: var(--fill-color);\n",
              "    animation:\n",
              "      spin 1s steps(1) infinite;\n",
              "  }\n",
              "\n",
              "  @keyframes spin {\n",
              "    0% {\n",
              "      border-color: transparent;\n",
              "      border-bottom-color: var(--fill-color);\n",
              "      border-left-color: var(--fill-color);\n",
              "    }\n",
              "    20% {\n",
              "      border-color: transparent;\n",
              "      border-left-color: var(--fill-color);\n",
              "      border-top-color: var(--fill-color);\n",
              "    }\n",
              "    30% {\n",
              "      border-color: transparent;\n",
              "      border-left-color: var(--fill-color);\n",
              "      border-top-color: var(--fill-color);\n",
              "      border-right-color: var(--fill-color);\n",
              "    }\n",
              "    40% {\n",
              "      border-color: transparent;\n",
              "      border-right-color: var(--fill-color);\n",
              "      border-top-color: var(--fill-color);\n",
              "    }\n",
              "    60% {\n",
              "      border-color: transparent;\n",
              "      border-right-color: var(--fill-color);\n",
              "    }\n",
              "    80% {\n",
              "      border-color: transparent;\n",
              "      border-right-color: var(--fill-color);\n",
              "      border-bottom-color: var(--fill-color);\n",
              "    }\n",
              "    90% {\n",
              "      border-color: transparent;\n",
              "      border-bottom-color: var(--fill-color);\n",
              "    }\n",
              "  }\n",
              "</style>\n",
              "\n",
              "  <script>\n",
              "    async function quickchart(key) {\n",
              "      const quickchartButtonEl =\n",
              "        document.querySelector('#' + key + ' button');\n",
              "      quickchartButtonEl.disabled = true;  // To prevent multiple clicks.\n",
              "      quickchartButtonEl.classList.add('colab-df-spinner');\n",
              "      try {\n",
              "        const charts = await google.colab.kernel.invokeFunction(\n",
              "            'suggestCharts', [key], {});\n",
              "      } catch (error) {\n",
              "        console.error('Error during call to suggestCharts:', error);\n",
              "      }\n",
              "      quickchartButtonEl.classList.remove('colab-df-spinner');\n",
              "      quickchartButtonEl.classList.add('colab-df-quickchart-complete');\n",
              "    }\n",
              "    (() => {\n",
              "      let quickchartButtonEl =\n",
              "        document.querySelector('#df-c33474b8-227a-4175-84a6-09c4c63e186b button');\n",
              "      quickchartButtonEl.style.display =\n",
              "        google.colab.kernel.accessAllowed ? 'block' : 'none';\n",
              "    })();\n",
              "  </script>\n",
              "</div>\n",
              "\n",
              "  <div id=\"id_4fb39f04-f614-4932-9793-02cb4f2c9ccc\">\n",
              "    <style>\n",
              "      .colab-df-generate {\n",
              "        background-color: #E8F0FE;\n",
              "        border: none;\n",
              "        border-radius: 50%;\n",
              "        cursor: pointer;\n",
              "        display: none;\n",
              "        fill: #1967D2;\n",
              "        height: 32px;\n",
              "        padding: 0 0 0 0;\n",
              "        width: 32px;\n",
              "      }\n",
              "\n",
              "      .colab-df-generate:hover {\n",
              "        background-color: #E2EBFA;\n",
              "        box-shadow: 0px 1px 2px rgba(60, 64, 67, 0.3), 0px 1px 3px 1px rgba(60, 64, 67, 0.15);\n",
              "        fill: #174EA6;\n",
              "      }\n",
              "\n",
              "      [theme=dark] .colab-df-generate {\n",
              "        background-color: #3B4455;\n",
              "        fill: #D2E3FC;\n",
              "      }\n",
              "\n",
              "      [theme=dark] .colab-df-generate:hover {\n",
              "        background-color: #434B5C;\n",
              "        box-shadow: 0px 1px 3px 1px rgba(0, 0, 0, 0.15);\n",
              "        filter: drop-shadow(0px 1px 2px rgba(0, 0, 0, 0.3));\n",
              "        fill: #FFFFFF;\n",
              "      }\n",
              "    </style>\n",
              "    <button class=\"colab-df-generate\" onclick=\"generateWithVariable('data')\"\n",
              "            title=\"Generate code using this dataframe.\"\n",
              "            style=\"display:none;\">\n",
              "\n",
              "  <svg xmlns=\"http://www.w3.org/2000/svg\" height=\"24px\"viewBox=\"0 0 24 24\"\n",
              "       width=\"24px\">\n",
              "    <path d=\"M7,19H8.4L18.45,9,17,7.55,7,17.6ZM5,21V16.75L18.45,3.32a2,2,0,0,1,2.83,0l1.4,1.43a1.91,1.91,0,0,1,.58,1.4,1.91,1.91,0,0,1-.58,1.4L9.25,21ZM18.45,9,17,7.55Zm-12,3A5.31,5.31,0,0,0,4.9,8.1,5.31,5.31,0,0,0,1,6.5,5.31,5.31,0,0,0,4.9,4.9,5.31,5.31,0,0,0,6.5,1,5.31,5.31,0,0,0,8.1,4.9,5.31,5.31,0,0,0,12,6.5,5.46,5.46,0,0,0,6.5,12Z\"/>\n",
              "  </svg>\n",
              "    </button>\n",
              "    <script>\n",
              "      (() => {\n",
              "      const buttonEl =\n",
              "        document.querySelector('#id_4fb39f04-f614-4932-9793-02cb4f2c9ccc button.colab-df-generate');\n",
              "      buttonEl.style.display =\n",
              "        google.colab.kernel.accessAllowed ? 'block' : 'none';\n",
              "\n",
              "      buttonEl.onclick = () => {\n",
              "        google.colab.notebook.generateWithVariable('data');\n",
              "      }\n",
              "      })();\n",
              "    </script>\n",
              "  </div>\n",
              "\n",
              "    </div>\n",
              "  </div>\n"
            ],
            "application/vnd.google.colaboratory.intrinsic+json": {
              "type": "dataframe",
              "variable_name": "data",
              "summary": "{\n  \"name\": \"data\",\n  \"rows\": 360,\n  \"fields\": [\n    {\n      \"column\": \"A\\u00f1o\",\n      \"properties\": {\n        \"dtype\": \"number\",\n        \"std\": 4,\n        \"min\": 2007,\n        \"max\": 2022,\n        \"num_unique_values\": 16,\n        \"samples\": [\n          2007,\n          2008,\n          2012\n        ],\n        \"semantic_type\": \"\",\n        \"description\": \"\"\n      }\n    },\n    {\n      \"column\": \"Departamento\",\n      \"properties\": {\n        \"dtype\": \"category\",\n        \"num_unique_values\": 26,\n        \"samples\": [\n          \"CHOCO\",\n          \"PUTUMAYO\",\n          \"ANTIOQUIA\"\n        ],\n        \"semantic_type\": \"\",\n        \"description\": \"\"\n      }\n    },\n    {\n      \"column\": \"Producto\",\n      \"properties\": {\n        \"dtype\": \"category\",\n        \"num_unique_values\": 1,\n        \"samples\": [\n          \"CAFE\"\n        ],\n        \"semantic_type\": \"\",\n        \"description\": \"\"\n      }\n    },\n    {\n      \"column\": \"Area (ha)\",\n      \"properties\": {\n        \"dtype\": \"number\",\n        \"std\": 34487.06605286808,\n        \"min\": 0.0,\n        \"max\": 130452.4,\n        \"num_unique_values\": 352,\n        \"samples\": [\n          5340.8\n        ],\n        \"semantic_type\": \"\",\n        \"description\": \"\"\n      }\n    },\n    {\n      \"column\": \"Produccion (ton)\",\n      \"properties\": {\n        \"dtype\": \"number\",\n        \"std\": 39092.65264707856,\n        \"min\": 0.0,\n        \"max\": 178319.13,\n        \"num_unique_values\": 353,\n        \"samples\": [\n          7638.99\n        ],\n        \"semantic_type\": \"\",\n        \"description\": \"\"\n      }\n    },\n    {\n      \"column\": \"Rendimiento (ha/ton)\",\n      \"properties\": {\n        \"dtype\": \"number\",\n        \"std\": 0.2644750220624911,\n        \"min\": 0.0,\n        \"max\": 2.0,\n        \"num_unique_values\": 98,\n        \"samples\": [\n          0.67\n        ],\n        \"semantic_type\": \"\",\n        \"description\": \"\"\n      }\n    },\n    {\n      \"column\": \"Produccion Nacional (ton)\",\n      \"properties\": {\n        \"dtype\": \"number\",\n        \"std\": 5.011555245278444,\n        \"min\": 0.0,\n        \"max\": 21.31,\n        \"num_unique_values\": 260,\n        \"samples\": [\n          0.01\n        ],\n        \"semantic_type\": \"\",\n        \"description\": \"\"\n      }\n    },\n    {\n      \"column\": \"Area Nacional (ha)\",\n      \"properties\": {\n        \"dtype\": \"number\",\n        \"std\": 4.633408967806818,\n        \"min\": 0.0,\n        \"max\": 17.78,\n        \"num_unique_values\": 258,\n        \"samples\": [\n          5.95\n        ],\n        \"semantic_type\": \"\",\n        \"description\": \"\"\n      }\n    }\n  ]\n}"
            }
          },
          "metadata": {},
          "execution_count": 30
        }
      ]
    },
    {
      "cell_type": "markdown",
      "source": [
        "**Información del dataset**"
      ],
      "metadata": {
        "id": "610cQETi6Qlb"
      }
    },
    {
      "cell_type": "code",
      "source": [
        "data1.info()"
      ],
      "metadata": {
        "colab": {
          "base_uri": "https://localhost:8080/"
        },
        "id": "XQ5PLXSx6C2t",
        "outputId": "4c5efbd4-f39e-4949-b989-d271e97f6fb3"
      },
      "execution_count": 31,
      "outputs": [
        {
          "output_type": "stream",
          "name": "stdout",
          "text": [
            "<class 'pandas.core.frame.DataFrame'>\n",
            "RangeIndex: 360 entries, 0 to 359\n",
            "Data columns (total 8 columns):\n",
            " #   Column                     Non-Null Count  Dtype  \n",
            "---  ------                     --------------  -----  \n",
            " 0   Año                        360 non-null    int64  \n",
            " 1   Departamento               360 non-null    object \n",
            " 2   Producto                   360 non-null    object \n",
            " 3   Area (ha)                  360 non-null    float64\n",
            " 4   Produccion (ton)           360 non-null    float64\n",
            " 5   Rendimiento (ha/ton)       360 non-null    float64\n",
            " 6   Produccion Nacional (ton)  360 non-null    float64\n",
            " 7   Area Nacional (ha)         360 non-null    float64\n",
            "dtypes: float64(5), int64(1), object(2)\n",
            "memory usage: 22.6+ KB\n"
          ]
        }
      ]
    },
    {
      "cell_type": "code",
      "source": [
        "data1.dtypes"
      ],
      "metadata": {
        "colab": {
          "base_uri": "https://localhost:8080/",
          "height": 335
        },
        "collapsed": true,
        "id": "esytGYrk6GeF",
        "outputId": "62919e25-414a-46ff-9594-1cfee8a6c4cc"
      },
      "execution_count": 32,
      "outputs": [
        {
          "output_type": "execute_result",
          "data": {
            "text/plain": [
              "Año                            int64\n",
              "Departamento                  object\n",
              "Producto                      object\n",
              "Area (ha)                    float64\n",
              "Produccion (ton)             float64\n",
              "Rendimiento (ha/ton)         float64\n",
              "Produccion Nacional (ton)    float64\n",
              "Area Nacional (ha)           float64\n",
              "dtype: object"
            ],
            "text/html": [
              "<div>\n",
              "<style scoped>\n",
              "    .dataframe tbody tr th:only-of-type {\n",
              "        vertical-align: middle;\n",
              "    }\n",
              "\n",
              "    .dataframe tbody tr th {\n",
              "        vertical-align: top;\n",
              "    }\n",
              "\n",
              "    .dataframe thead th {\n",
              "        text-align: right;\n",
              "    }\n",
              "</style>\n",
              "<table border=\"1\" class=\"dataframe\">\n",
              "  <thead>\n",
              "    <tr style=\"text-align: right;\">\n",
              "      <th></th>\n",
              "      <th>0</th>\n",
              "    </tr>\n",
              "  </thead>\n",
              "  <tbody>\n",
              "    <tr>\n",
              "      <th>Año</th>\n",
              "      <td>int64</td>\n",
              "    </tr>\n",
              "    <tr>\n",
              "      <th>Departamento</th>\n",
              "      <td>object</td>\n",
              "    </tr>\n",
              "    <tr>\n",
              "      <th>Producto</th>\n",
              "      <td>object</td>\n",
              "    </tr>\n",
              "    <tr>\n",
              "      <th>Area (ha)</th>\n",
              "      <td>float64</td>\n",
              "    </tr>\n",
              "    <tr>\n",
              "      <th>Produccion (ton)</th>\n",
              "      <td>float64</td>\n",
              "    </tr>\n",
              "    <tr>\n",
              "      <th>Rendimiento (ha/ton)</th>\n",
              "      <td>float64</td>\n",
              "    </tr>\n",
              "    <tr>\n",
              "      <th>Produccion Nacional (ton)</th>\n",
              "      <td>float64</td>\n",
              "    </tr>\n",
              "    <tr>\n",
              "      <th>Area Nacional (ha)</th>\n",
              "      <td>float64</td>\n",
              "    </tr>\n",
              "  </tbody>\n",
              "</table>\n",
              "</div><br><label><b>dtype:</b> object</label>"
            ]
          },
          "metadata": {},
          "execution_count": 32
        }
      ]
    },
    {
      "cell_type": "code",
      "source": [
        "data1.shape"
      ],
      "metadata": {
        "colab": {
          "base_uri": "https://localhost:8080/"
        },
        "id": "IcCGaaBZ6H70",
        "outputId": "af083d22-b360-4e5d-f613-c3c4907979ff"
      },
      "execution_count": 33,
      "outputs": [
        {
          "output_type": "execute_result",
          "data": {
            "text/plain": [
              "(360, 8)"
            ]
          },
          "metadata": {},
          "execution_count": 33
        }
      ]
    },
    {
      "cell_type": "code",
      "source": [
        "#Se crea un dataframe en la variable data con las columnas a trabajar y se reemplazan los valores 0.0 por NaN\n",
        "data = data1[['Area (ha)', 'Produccion (ton)','Rendimiento (ha/ton)']]\n",
        "data.replace(0.0, np.nan, inplace=True)\n",
        "data"
      ],
      "metadata": {
        "colab": {
          "base_uri": "https://localhost:8080/",
          "height": 515
        },
        "collapsed": true,
        "id": "9Ymdbexk6I8U",
        "outputId": "240353e1-ac7d-4d98-8707-fd3d7815025c"
      },
      "execution_count": 34,
      "outputs": [
        {
          "output_type": "stream",
          "name": "stderr",
          "text": [
            "<ipython-input-34-a23bbbcd4808>:3: SettingWithCopyWarning: \n",
            "A value is trying to be set on a copy of a slice from a DataFrame\n",
            "\n",
            "See the caveats in the documentation: https://pandas.pydata.org/pandas-docs/stable/user_guide/indexing.html#returning-a-view-versus-a-copy\n",
            "  data.replace(0.0, np.nan, inplace=True)\n"
          ]
        },
        {
          "output_type": "execute_result",
          "data": {
            "text/plain": [
              "     Area (ha)  Produccion (ton)  Rendimiento (ha/ton)\n",
              "0    112343.60         120500.80                  1.07\n",
              "1       502.00            446.00                  0.89\n",
              "2     11374.50           9683.10                  0.85\n",
              "3     78393.65          92815.00                  1.18\n",
              "4      2295.00           2134.00                  0.93\n",
              "..         ...               ...                   ...\n",
              "355   33376.97          33387.59                  1.00\n",
              "356   44378.29          45048.58                  1.02\n",
              "357        NaN               NaN                   NaN\n",
              "358   90110.73          76413.90                  0.85\n",
              "359   42929.23          37093.76                  0.86\n",
              "\n",
              "[360 rows x 3 columns]"
            ],
            "text/html": [
              "\n",
              "  <div id=\"df-0af94b7f-5417-414c-a941-e76a64df0fd0\" class=\"colab-df-container\">\n",
              "    <div>\n",
              "<style scoped>\n",
              "    .dataframe tbody tr th:only-of-type {\n",
              "        vertical-align: middle;\n",
              "    }\n",
              "\n",
              "    .dataframe tbody tr th {\n",
              "        vertical-align: top;\n",
              "    }\n",
              "\n",
              "    .dataframe thead th {\n",
              "        text-align: right;\n",
              "    }\n",
              "</style>\n",
              "<table border=\"1\" class=\"dataframe\">\n",
              "  <thead>\n",
              "    <tr style=\"text-align: right;\">\n",
              "      <th></th>\n",
              "      <th>Area (ha)</th>\n",
              "      <th>Produccion (ton)</th>\n",
              "      <th>Rendimiento (ha/ton)</th>\n",
              "    </tr>\n",
              "  </thead>\n",
              "  <tbody>\n",
              "    <tr>\n",
              "      <th>0</th>\n",
              "      <td>112343.60</td>\n",
              "      <td>120500.80</td>\n",
              "      <td>1.07</td>\n",
              "    </tr>\n",
              "    <tr>\n",
              "      <th>1</th>\n",
              "      <td>502.00</td>\n",
              "      <td>446.00</td>\n",
              "      <td>0.89</td>\n",
              "    </tr>\n",
              "    <tr>\n",
              "      <th>2</th>\n",
              "      <td>11374.50</td>\n",
              "      <td>9683.10</td>\n",
              "      <td>0.85</td>\n",
              "    </tr>\n",
              "    <tr>\n",
              "      <th>3</th>\n",
              "      <td>78393.65</td>\n",
              "      <td>92815.00</td>\n",
              "      <td>1.18</td>\n",
              "    </tr>\n",
              "    <tr>\n",
              "      <th>4</th>\n",
              "      <td>2295.00</td>\n",
              "      <td>2134.00</td>\n",
              "      <td>0.93</td>\n",
              "    </tr>\n",
              "    <tr>\n",
              "      <th>...</th>\n",
              "      <td>...</td>\n",
              "      <td>...</td>\n",
              "      <td>...</td>\n",
              "    </tr>\n",
              "    <tr>\n",
              "      <th>355</th>\n",
              "      <td>33376.97</td>\n",
              "      <td>33387.59</td>\n",
              "      <td>1.00</td>\n",
              "    </tr>\n",
              "    <tr>\n",
              "      <th>356</th>\n",
              "      <td>44378.29</td>\n",
              "      <td>45048.58</td>\n",
              "      <td>1.02</td>\n",
              "    </tr>\n",
              "    <tr>\n",
              "      <th>357</th>\n",
              "      <td>NaN</td>\n",
              "      <td>NaN</td>\n",
              "      <td>NaN</td>\n",
              "    </tr>\n",
              "    <tr>\n",
              "      <th>358</th>\n",
              "      <td>90110.73</td>\n",
              "      <td>76413.90</td>\n",
              "      <td>0.85</td>\n",
              "    </tr>\n",
              "    <tr>\n",
              "      <th>359</th>\n",
              "      <td>42929.23</td>\n",
              "      <td>37093.76</td>\n",
              "      <td>0.86</td>\n",
              "    </tr>\n",
              "  </tbody>\n",
              "</table>\n",
              "<p>360 rows × 3 columns</p>\n",
              "</div>\n",
              "    <div class=\"colab-df-buttons\">\n",
              "\n",
              "  <div class=\"colab-df-container\">\n",
              "    <button class=\"colab-df-convert\" onclick=\"convertToInteractive('df-0af94b7f-5417-414c-a941-e76a64df0fd0')\"\n",
              "            title=\"Convert this dataframe to an interactive table.\"\n",
              "            style=\"display:none;\">\n",
              "\n",
              "  <svg xmlns=\"http://www.w3.org/2000/svg\" height=\"24px\" viewBox=\"0 -960 960 960\">\n",
              "    <path d=\"M120-120v-720h720v720H120Zm60-500h600v-160H180v160Zm220 220h160v-160H400v160Zm0 220h160v-160H400v160ZM180-400h160v-160H180v160Zm440 0h160v-160H620v160ZM180-180h160v-160H180v160Zm440 0h160v-160H620v160Z\"/>\n",
              "  </svg>\n",
              "    </button>\n",
              "\n",
              "  <style>\n",
              "    .colab-df-container {\n",
              "      display:flex;\n",
              "      gap: 12px;\n",
              "    }\n",
              "\n",
              "    .colab-df-convert {\n",
              "      background-color: #E8F0FE;\n",
              "      border: none;\n",
              "      border-radius: 50%;\n",
              "      cursor: pointer;\n",
              "      display: none;\n",
              "      fill: #1967D2;\n",
              "      height: 32px;\n",
              "      padding: 0 0 0 0;\n",
              "      width: 32px;\n",
              "    }\n",
              "\n",
              "    .colab-df-convert:hover {\n",
              "      background-color: #E2EBFA;\n",
              "      box-shadow: 0px 1px 2px rgba(60, 64, 67, 0.3), 0px 1px 3px 1px rgba(60, 64, 67, 0.15);\n",
              "      fill: #174EA6;\n",
              "    }\n",
              "\n",
              "    .colab-df-buttons div {\n",
              "      margin-bottom: 4px;\n",
              "    }\n",
              "\n",
              "    [theme=dark] .colab-df-convert {\n",
              "      background-color: #3B4455;\n",
              "      fill: #D2E3FC;\n",
              "    }\n",
              "\n",
              "    [theme=dark] .colab-df-convert:hover {\n",
              "      background-color: #434B5C;\n",
              "      box-shadow: 0px 1px 3px 1px rgba(0, 0, 0, 0.15);\n",
              "      filter: drop-shadow(0px 1px 2px rgba(0, 0, 0, 0.3));\n",
              "      fill: #FFFFFF;\n",
              "    }\n",
              "  </style>\n",
              "\n",
              "    <script>\n",
              "      const buttonEl =\n",
              "        document.querySelector('#df-0af94b7f-5417-414c-a941-e76a64df0fd0 button.colab-df-convert');\n",
              "      buttonEl.style.display =\n",
              "        google.colab.kernel.accessAllowed ? 'block' : 'none';\n",
              "\n",
              "      async function convertToInteractive(key) {\n",
              "        const element = document.querySelector('#df-0af94b7f-5417-414c-a941-e76a64df0fd0');\n",
              "        const dataTable =\n",
              "          await google.colab.kernel.invokeFunction('convertToInteractive',\n",
              "                                                    [key], {});\n",
              "        if (!dataTable) return;\n",
              "\n",
              "        const docLinkHtml = 'Like what you see? Visit the ' +\n",
              "          '<a target=\"_blank\" href=https://colab.research.google.com/notebooks/data_table.ipynb>data table notebook</a>'\n",
              "          + ' to learn more about interactive tables.';\n",
              "        element.innerHTML = '';\n",
              "        dataTable['output_type'] = 'display_data';\n",
              "        await google.colab.output.renderOutput(dataTable, element);\n",
              "        const docLink = document.createElement('div');\n",
              "        docLink.innerHTML = docLinkHtml;\n",
              "        element.appendChild(docLink);\n",
              "      }\n",
              "    </script>\n",
              "  </div>\n",
              "\n",
              "\n",
              "<div id=\"df-af20de10-3e94-432a-8ac1-c972d1f36c3a\">\n",
              "  <button class=\"colab-df-quickchart\" onclick=\"quickchart('df-af20de10-3e94-432a-8ac1-c972d1f36c3a')\"\n",
              "            title=\"Suggest charts\"\n",
              "            style=\"display:none;\">\n",
              "\n",
              "<svg xmlns=\"http://www.w3.org/2000/svg\" height=\"24px\"viewBox=\"0 0 24 24\"\n",
              "     width=\"24px\">\n",
              "    <g>\n",
              "        <path d=\"M19 3H5c-1.1 0-2 .9-2 2v14c0 1.1.9 2 2 2h14c1.1 0 2-.9 2-2V5c0-1.1-.9-2-2-2zM9 17H7v-7h2v7zm4 0h-2V7h2v10zm4 0h-2v-4h2v4z\"/>\n",
              "    </g>\n",
              "</svg>\n",
              "  </button>\n",
              "\n",
              "<style>\n",
              "  .colab-df-quickchart {\n",
              "      --bg-color: #E8F0FE;\n",
              "      --fill-color: #1967D2;\n",
              "      --hover-bg-color: #E2EBFA;\n",
              "      --hover-fill-color: #174EA6;\n",
              "      --disabled-fill-color: #AAA;\n",
              "      --disabled-bg-color: #DDD;\n",
              "  }\n",
              "\n",
              "  [theme=dark] .colab-df-quickchart {\n",
              "      --bg-color: #3B4455;\n",
              "      --fill-color: #D2E3FC;\n",
              "      --hover-bg-color: #434B5C;\n",
              "      --hover-fill-color: #FFFFFF;\n",
              "      --disabled-bg-color: #3B4455;\n",
              "      --disabled-fill-color: #666;\n",
              "  }\n",
              "\n",
              "  .colab-df-quickchart {\n",
              "    background-color: var(--bg-color);\n",
              "    border: none;\n",
              "    border-radius: 50%;\n",
              "    cursor: pointer;\n",
              "    display: none;\n",
              "    fill: var(--fill-color);\n",
              "    height: 32px;\n",
              "    padding: 0;\n",
              "    width: 32px;\n",
              "  }\n",
              "\n",
              "  .colab-df-quickchart:hover {\n",
              "    background-color: var(--hover-bg-color);\n",
              "    box-shadow: 0 1px 2px rgba(60, 64, 67, 0.3), 0 1px 3px 1px rgba(60, 64, 67, 0.15);\n",
              "    fill: var(--button-hover-fill-color);\n",
              "  }\n",
              "\n",
              "  .colab-df-quickchart-complete:disabled,\n",
              "  .colab-df-quickchart-complete:disabled:hover {\n",
              "    background-color: var(--disabled-bg-color);\n",
              "    fill: var(--disabled-fill-color);\n",
              "    box-shadow: none;\n",
              "  }\n",
              "\n",
              "  .colab-df-spinner {\n",
              "    border: 2px solid var(--fill-color);\n",
              "    border-color: transparent;\n",
              "    border-bottom-color: var(--fill-color);\n",
              "    animation:\n",
              "      spin 1s steps(1) infinite;\n",
              "  }\n",
              "\n",
              "  @keyframes spin {\n",
              "    0% {\n",
              "      border-color: transparent;\n",
              "      border-bottom-color: var(--fill-color);\n",
              "      border-left-color: var(--fill-color);\n",
              "    }\n",
              "    20% {\n",
              "      border-color: transparent;\n",
              "      border-left-color: var(--fill-color);\n",
              "      border-top-color: var(--fill-color);\n",
              "    }\n",
              "    30% {\n",
              "      border-color: transparent;\n",
              "      border-left-color: var(--fill-color);\n",
              "      border-top-color: var(--fill-color);\n",
              "      border-right-color: var(--fill-color);\n",
              "    }\n",
              "    40% {\n",
              "      border-color: transparent;\n",
              "      border-right-color: var(--fill-color);\n",
              "      border-top-color: var(--fill-color);\n",
              "    }\n",
              "    60% {\n",
              "      border-color: transparent;\n",
              "      border-right-color: var(--fill-color);\n",
              "    }\n",
              "    80% {\n",
              "      border-color: transparent;\n",
              "      border-right-color: var(--fill-color);\n",
              "      border-bottom-color: var(--fill-color);\n",
              "    }\n",
              "    90% {\n",
              "      border-color: transparent;\n",
              "      border-bottom-color: var(--fill-color);\n",
              "    }\n",
              "  }\n",
              "</style>\n",
              "\n",
              "  <script>\n",
              "    async function quickchart(key) {\n",
              "      const quickchartButtonEl =\n",
              "        document.querySelector('#' + key + ' button');\n",
              "      quickchartButtonEl.disabled = true;  // To prevent multiple clicks.\n",
              "      quickchartButtonEl.classList.add('colab-df-spinner');\n",
              "      try {\n",
              "        const charts = await google.colab.kernel.invokeFunction(\n",
              "            'suggestCharts', [key], {});\n",
              "      } catch (error) {\n",
              "        console.error('Error during call to suggestCharts:', error);\n",
              "      }\n",
              "      quickchartButtonEl.classList.remove('colab-df-spinner');\n",
              "      quickchartButtonEl.classList.add('colab-df-quickchart-complete');\n",
              "    }\n",
              "    (() => {\n",
              "      let quickchartButtonEl =\n",
              "        document.querySelector('#df-af20de10-3e94-432a-8ac1-c972d1f36c3a button');\n",
              "      quickchartButtonEl.style.display =\n",
              "        google.colab.kernel.accessAllowed ? 'block' : 'none';\n",
              "    })();\n",
              "  </script>\n",
              "</div>\n",
              "\n",
              "  <div id=\"id_659668cd-9a74-4ebb-9413-dc067eaf3bf3\">\n",
              "    <style>\n",
              "      .colab-df-generate {\n",
              "        background-color: #E8F0FE;\n",
              "        border: none;\n",
              "        border-radius: 50%;\n",
              "        cursor: pointer;\n",
              "        display: none;\n",
              "        fill: #1967D2;\n",
              "        height: 32px;\n",
              "        padding: 0 0 0 0;\n",
              "        width: 32px;\n",
              "      }\n",
              "\n",
              "      .colab-df-generate:hover {\n",
              "        background-color: #E2EBFA;\n",
              "        box-shadow: 0px 1px 2px rgba(60, 64, 67, 0.3), 0px 1px 3px 1px rgba(60, 64, 67, 0.15);\n",
              "        fill: #174EA6;\n",
              "      }\n",
              "\n",
              "      [theme=dark] .colab-df-generate {\n",
              "        background-color: #3B4455;\n",
              "        fill: #D2E3FC;\n",
              "      }\n",
              "\n",
              "      [theme=dark] .colab-df-generate:hover {\n",
              "        background-color: #434B5C;\n",
              "        box-shadow: 0px 1px 3px 1px rgba(0, 0, 0, 0.15);\n",
              "        filter: drop-shadow(0px 1px 2px rgba(0, 0, 0, 0.3));\n",
              "        fill: #FFFFFF;\n",
              "      }\n",
              "    </style>\n",
              "    <button class=\"colab-df-generate\" onclick=\"generateWithVariable('data')\"\n",
              "            title=\"Generate code using this dataframe.\"\n",
              "            style=\"display:none;\">\n",
              "\n",
              "  <svg xmlns=\"http://www.w3.org/2000/svg\" height=\"24px\"viewBox=\"0 0 24 24\"\n",
              "       width=\"24px\">\n",
              "    <path d=\"M7,19H8.4L18.45,9,17,7.55,7,17.6ZM5,21V16.75L18.45,3.32a2,2,0,0,1,2.83,0l1.4,1.43a1.91,1.91,0,0,1,.58,1.4,1.91,1.91,0,0,1-.58,1.4L9.25,21ZM18.45,9,17,7.55Zm-12,3A5.31,5.31,0,0,0,4.9,8.1,5.31,5.31,0,0,0,1,6.5,5.31,5.31,0,0,0,4.9,4.9,5.31,5.31,0,0,0,6.5,1,5.31,5.31,0,0,0,8.1,4.9,5.31,5.31,0,0,0,12,6.5,5.46,5.46,0,0,0,6.5,12Z\"/>\n",
              "  </svg>\n",
              "    </button>\n",
              "    <script>\n",
              "      (() => {\n",
              "      const buttonEl =\n",
              "        document.querySelector('#id_659668cd-9a74-4ebb-9413-dc067eaf3bf3 button.colab-df-generate');\n",
              "      buttonEl.style.display =\n",
              "        google.colab.kernel.accessAllowed ? 'block' : 'none';\n",
              "\n",
              "      buttonEl.onclick = () => {\n",
              "        google.colab.notebook.generateWithVariable('data');\n",
              "      }\n",
              "      })();\n",
              "    </script>\n",
              "  </div>\n",
              "\n",
              "    </div>\n",
              "  </div>\n"
            ],
            "application/vnd.google.colaboratory.intrinsic+json": {
              "type": "dataframe",
              "variable_name": "data",
              "summary": "{\n  \"name\": \"data\",\n  \"rows\": 360,\n  \"fields\": [\n    {\n      \"column\": \"Area (ha)\",\n      \"properties\": {\n        \"dtype\": \"number\",\n        \"std\": 34500.94464979363,\n        \"min\": 10.0,\n        \"max\": 130452.4,\n        \"num_unique_values\": 351,\n        \"samples\": [\n          77068.46,\n          2528.81,\n          25592.45\n        ],\n        \"semantic_type\": \"\",\n        \"description\": \"\"\n      }\n    },\n    {\n      \"column\": \"Produccion (ton)\",\n      \"properties\": {\n        \"dtype\": \"number\",\n        \"std\": 39141.55502508588,\n        \"min\": 12.0,\n        \"max\": 178319.13,\n        \"num_unique_values\": 352,\n        \"samples\": [\n          11937.9,\n          30786.41,\n          13412.8\n        ],\n        \"semantic_type\": \"\",\n        \"description\": \"\"\n      }\n    },\n    {\n      \"column\": \"Rendimiento (ha/ton)\",\n      \"properties\": {\n        \"dtype\": \"number\",\n        \"std\": 0.24609763777333077,\n        \"min\": 0.3,\n        \"max\": 2.0,\n        \"num_unique_values\": 97,\n        \"samples\": [\n          1.19,\n          1.0,\n          1.31\n        ],\n        \"semantic_type\": \"\",\n        \"description\": \"\"\n      }\n    }\n  ]\n}"
            }
          },
          "metadata": {},
          "execution_count": 34
        }
      ]
    },
    {
      "cell_type": "code",
      "source": [
        "#Separación variables y se eliminan los datos NaN\n",
        "X = data[['Area (ha)','Produccion (ton)']].dropna()\n",
        "y = data['Rendimiento (ha/ton)'].dropna()"
      ],
      "metadata": {
        "collapsed": true,
        "id": "F5EJecgs6J7v"
      },
      "execution_count": 35,
      "outputs": []
    },
    {
      "cell_type": "code",
      "source": [
        "# Pearson\n",
        "correlation_prod, p_value_prod = pearsonr(X['Produccion (ton)'], y)\n",
        "print(f'Coeficiente de correlación de Pearson entre Produccion (ton) y Rendimiento (ha/ton): {correlation_prod}')\n",
        "\n",
        "correlation_area, p_value_area = pearsonr(X['Area (ha)'], y)\n",
        "print(f'Coeficiente de correlación de Pearson entre Area (ha) y Rendimiento (ha/ton): {correlation_area}')\n"
      ],
      "metadata": {
        "id": "_qfm1Ll5BtbD",
        "colab": {
          "base_uri": "https://localhost:8080/"
        },
        "outputId": "a19875a7-6643-461f-de9a-57f3108f122e"
      },
      "execution_count": 36,
      "outputs": [
        {
          "output_type": "stream",
          "name": "stdout",
          "text": [
            "Coeficiente de correlación de Pearson entre Produccion (ton) y Rendimiento (ha/ton): 0.4554153805390943\n",
            "Coeficiente de correlación de Pearson entre Area (ha) y Rendimiento (ha/ton): 0.3240945745788723\n"
          ]
        }
      ]
    },
    {
      "cell_type": "code",
      "source": [
        "# Divido datos de entrenamiento\n",
        "X_train, X_test, Y_train, Y_test = train_test_split(X, y, test_size=0.2, random_state=42)"
      ],
      "metadata": {
        "id": "87MwaC7uCDNS"
      },
      "execution_count": 37,
      "outputs": []
    },
    {
      "cell_type": "markdown",
      "source": [
        "#DecisionTreeRegressor"
      ],
      "metadata": {
        "id": "wYWm2OFNnn9r"
      }
    },
    {
      "cell_type": "code",
      "source": [
        "#Modelo decision tree\n",
        "tree_model = DecisionTreeRegressor(random_state=42)\n",
        "tree_model.fit(X_train, Y_train)\n",
        "\n",
        "#Predeccion\n",
        "Y_pred_tree = tree_model.predict(X_test)\n",
        "\n",
        "#R2 Decision Tree\n",
        "r2_tree = r2_score(Y_test, Y_pred_tree)\n",
        "\n",
        "#Cross Validation\n",
        "cv_r2_scores = cross_val_score(tree_model, X, y, cv=5, scoring='r2')\n",
        "\n",
        "print(f'R2 Decision Tree: {r2_tree}')\n",
        "print(f'Cross-Validation R^2 Scores: {cv_r2_scores}')\n",
        "print(f'Cross Validation R2 Decision Tree mean: {cv_r2_scores.mean()}')"
      ],
      "metadata": {
        "id": "_7A0MGsUCKN-",
        "colab": {
          "base_uri": "https://localhost:8080/"
        },
        "outputId": "632a2f7d-3591-4d9e-c328-50bc7ec860ce"
      },
      "execution_count": 38,
      "outputs": [
        {
          "output_type": "stream",
          "name": "stdout",
          "text": [
            "R2 Decision Tree: 0.7387673747949486\n",
            "Cross-Validation R^2 Scores: [0.79619776 0.62716575 0.35632595 0.62635532 0.40010147]\n",
            "Cross Validation R2 Decision Tree mean: 0.5612292522632433\n"
          ]
        }
      ]
    },
    {
      "cell_type": "code",
      "source": [
        "#Para ver que tanto influye x en y\n",
        "# Obtener la importancia de las características del modelo\n",
        "feature_importances = tree_model.feature_importances_\n",
        "features = ['Produccion (ton)', 'Area (ha)']\n",
        "\n",
        "# Crear un gráfico de barras para la importancia de las características\n",
        "plt.figure(figsize=(10, 6))\n",
        "plt.bar(features, feature_importances, color='skyblue')\n",
        "plt.xlabel('Características')\n",
        "plt.ylabel('Importancia')\n",
        "plt.title('Importancia de las Características en el Árbol de Decisión')\n",
        "plt.show()"
      ],
      "metadata": {
        "id": "sku7R1VaCl1U",
        "colab": {
          "base_uri": "https://localhost:8080/",
          "height": 567
        },
        "outputId": "4f48b879-3c89-4427-ba67-de0a1fc97379"
      },
      "execution_count": 39,
      "outputs": [
        {
          "output_type": "display_data",
          "data": {
            "text/plain": [
              "<Figure size 1000x600 with 1 Axes>"
            ],
            "image/png": "[encoded data removed]"
          },
          "metadata": {}
        }
      ]
    },
    {
      "cell_type": "markdown",
      "source": [
        "# Random Forest"
      ],
      "metadata": {
        "id": "x0cKQUlD-iiF"
      }
    },
    {
      "cell_type": "code",
      "source": [
        "#creacion del modelo\n",
        "rf_regresion = RandomForestRegressor(n_estimators=100, random_state=42)\n",
        "#se entrena el modelo\n",
        "rf_regresion.fit(X_train, Y_train)\n",
        "#se crea la prediccion\n",
        "y_pred_rf = rf_regresion.predict(X_test)"
      ],
      "metadata": {
        "id": "MO05tEeA-l58"
      },
      "execution_count": 46,
      "outputs": []
    },
    {
      "cell_type": "code",
      "source": [
        "#se crea el error medio cuadrado\n",
        "mse = mean_squared_error(Y_test, y_pred_rf)\n",
        "# se crea el R2 random forest\n",
        "r2_rf = r2_score(Y_test, y_pred_rf)\n",
        "\n",
        "# se imprime los resultados\n",
        "print(f'Mean Squared Error: {mse:.2f}')\n",
        "print(f'R-squared Score: {r2_rf:.2f}')"
      ],
      "metadata": {
        "id": "D4Cjip7A-oyW",
        "outputId": "85ababf8-1aac-4331-9c30-8150f387ffd8",
        "colab": {
          "base_uri": "https://localhost:8080/"
        }
      },
      "execution_count": 47,
      "outputs": [
        {
          "output_type": "stream",
          "name": "stdout",
          "text": [
            "Mean Squared Error: 0.06\n",
            "R-squared Score: 0.76\n"
          ]
        }
      ]
    },
    {
      "cell_type": "code",
      "source": [
        "# se realiza validacion cruzada\n",
        "cvs_rf = cross_val_score(rf_regresion, X, y, cv=5, scoring='r2')\n",
        "# se calcula la media de la validacion cruzada\n",
        "cvs_rf_mean = cvs_rf.mean()\n",
        "# se calcula la mediana de la validacion cruzada\n",
        "cvs_rf_median = np.median(cvs_rf)\n",
        "\n",
        "\n",
        "\n",
        "print(f'Validacion cruzada con R2 en Random Forest: {cvs_rf}')\n",
        "print(f'Validacion cruzada con R2 con la media de Random Forest: {cvs_rf_mean}')\n",
        "print(f'Validacion cruzada con R2 con la mediana de Random Forest: {cvs_rf_median}')"
      ],
      "metadata": {
        "id": "OdS67478-r1P",
        "outputId": "010d4be5-60fc-43b6-9ee8-8e47462315f6",
        "colab": {
          "base_uri": "https://localhost:8080/"
        }
      },
      "execution_count": 48,
      "outputs": [
        {
          "output_type": "stream",
          "name": "stdout",
          "text": [
            "Validacion cruzada con R2 en Random Forest: [0.75161399 0.57406791 0.39857929 0.7676699  0.59649097]\n",
            "Validacion cruzada con R2 con la media de Random Forest: 0.617684410894894\n",
            "Validacion cruzada con R2 con la mediana de Random Forest: 0.5964909677419354\n"
          ]
        }
      ]
    },
    {
      "cell_type": "code",
      "source": [
        "#se grafica\n",
        "fig, ax = plt.subplots(figsize=(8, 6))\n",
        "ax.scatter(X_train['Area (ha)'], Y_train, c=Y_train.values.ravel(), cmap='viridis')\n",
        "\n",
        "#linea de codigo donde se genera un vertice pero se descuadra todo el grafico\n",
        "#ax.plot([x_test.min(), x_test.max()], [x_test.min(), x_test.max()], 'k--', lw=1)\n",
        "\n",
        "ax.set_xlabel('Area (ha)')\n",
        "ax.set_ylabel('Rendimiento (ha/ton)')\n",
        "ax.set_title(\"Dataset Visualization\")\n",
        "plt.show()"
      ],
      "metadata": {
        "id": "bGyavyw6-trT",
        "outputId": "bba2f441-da88-4d18-8268-959195ee335c",
        "colab": {
          "base_uri": "https://localhost:8080/",
          "height": 564
        }
      },
      "execution_count": 49,
      "outputs": [
        {
          "output_type": "display_data",
          "data": {
            "text/plain": [
              "<Figure size 800x600 with 1 Axes>"
            ],
            "image/png": "[encoded data removed]"
          },
          "metadata": {}
        }
      ]
    },
    {
      "cell_type": "markdown",
      "source": [
        "#Naive Bayes"
      ],
      "metadata": {
        "id": "ANz4PjGfokuz"
      }
    },
    {
      "cell_type": "markdown",
      "source": [
        "**Se emplea el método Gaussiano ya que las variables son contínuas**"
      ],
      "metadata": {
        "id": "Iu-HKb8nom3b"
      }
    },
    {
      "cell_type": "code",
      "source": [
        "#Se hacen nuevamente la separación de variables dado que para este modelo los labels deben convertirse a binario\n",
        "X = data[['Area (ha)','Produccion (ton)']].dropna()\n",
        "y = data['Rendimiento (ha/ton)'].dropna() > y.mean()\n",
        "X_train, X_test, Y_train, Y_test = train_test_split(X, y, test_size=0.2, random_state=42)"
      ],
      "metadata": {
        "id": "ltvv-v-BxyQV"
      },
      "execution_count": 40,
      "outputs": []
    },
    {
      "cell_type": "code",
      "source": [
        "#Creación y entrenamiento del modelo\n",
        "naive_modelo = GaussianNB() #Se utiliza el método Gaussiano ya que todos los features son de tipo continuo\n",
        "naive_modelo.fit(X_train, Y_train)\n",
        "\n",
        "#Predicción\n",
        "y_predicciones = naive_modelo.predict(X_test)"
      ],
      "metadata": {
        "id": "vyZUNhcDomdg"
      },
      "execution_count": 41,
      "outputs": []
    },
    {
      "cell_type": "markdown",
      "source": [
        "**Métricas**"
      ],
      "metadata": {
        "id": "EcjyAqlGyOJI"
      }
    },
    {
      "cell_type": "code",
      "source": [
        "#Evaluar el modelo - Precisión\n",
        "precision = accuracy_score(Y_test, y_predicciones)\n",
        "print(\"Precisión:\", precision)\n",
        "\n",
        "#Cross-Validation\n",
        "print(f'Cross-Validation R^2 Scores: {cv_r2_scores}')\n",
        "print(f'Cross Validation R2 Decision Tree mean: {cv_r2_scores.mean()}')\n",
        "\n",
        "#Matriz de confusión\n",
        "labels = [True, False]\n",
        "matriz_confusion = confusion_matrix(Y_test, y_predicciones, labels=labels)\n",
        "print(\"Matriz de confusión:\")\n",
        "print(matriz_confusion)"
      ],
      "metadata": {
        "id": "ywr9_o5ayRIT",
        "outputId": "5da19f59-0dcc-404e-c017-56ce61d82fac",
        "colab": {
          "base_uri": "https://localhost:8080/"
        }
      },
      "execution_count": 42,
      "outputs": [
        {
          "output_type": "stream",
          "name": "stdout",
          "text": [
            "Precisión: 0.7777777777777778\n",
            "Cross-Validation R^2 Scores: [0.79619776 0.62716575 0.35632595 0.62635532 0.40010147]\n",
            "Cross Validation R2 Decision Tree mean: 0.5612292522632433\n",
            "Matriz de confusión:\n",
            "[[24 14]\n",
            " [ 2 32]]\n"
          ]
        }
      ]
    },
    {
      "cell_type": "markdown",
      "source": [
        "**Gráficas**"
      ],
      "metadata": {
        "id": "U_LBNo4Jy23D"
      }
    },
    {
      "cell_type": "code",
      "source": [
        "#Gráfica matriz de confusión\n",
        "plt.figure(figsize=(8, 6))\n",
        "sns.heatmap(matriz_confusion, annot=True, fmt='d', cmap='Blues', xticklabels=labels, yticklabels=labels)\n",
        "plt.xlabel('Predicciones')\n",
        "plt.ylabel('Valores reales')\n",
        "plt.title('Matriz de confusión')\n",
        "plt.show()\n",
        "\n",
        "# Reporte de clasificación con precisión, sensibilidad y F1-score\n",
        "reporte_clasificacion = classification_report(Y_test, y_predicciones)\n",
        "print(\"Reporte de Clasificación:\")\n",
        "print(reporte_clasificacion)"
      ],
      "metadata": {
        "id": "lB3Ag6G7y1tX",
        "outputId": "99d7865d-ab1a-4926-d468-98c7cc915901",
        "colab": {
          "base_uri": "https://localhost:8080/",
          "height": 747
        }
      },
      "execution_count": 43,
      "outputs": [
        {
          "output_type": "display_data",
          "data": {
            "text/plain": [
              "<Figure size 800x600 with 2 Axes>"
            ],
            "image/png": "[encoded data removed]"
          },
          "metadata": {}
        },
        {
          "output_type": "stream",
          "name": "stdout",
          "text": [
            "Reporte de Clasificación:\n",
            "              precision    recall  f1-score   support\n",
            "\n",
            "       False       0.70      0.94      0.80        34\n",
            "        True       0.92      0.63      0.75        38\n",
            "\n",
            "    accuracy                           0.78        72\n",
            "   macro avg       0.81      0.79      0.78        72\n",
            "weighted avg       0.82      0.78      0.77        72\n",
            "\n"
          ]
        }
      ]
    },
    {
      "cell_type": "code",
      "source": [
        "#Curva ROC\n",
        "y_probabilidades = naive_modelo.predict_proba(X_test)[:, 1]\n",
        "\n",
        "fpr, tpr, thresholds = roc_curve(Y_test, y_probabilidades)\n",
        "\n",
        "curva_roc = roc_auc_score(Y_test, y_probabilidades)\n",
        "print(\"Curva ROC AUC:\", curva_roc)\n",
        "\n",
        "plt.plot(fpr, tpr, label='Curva ROC (área = %0.2f)' % curva_roc)\n",
        "plt.xlabel('Tasa de Falsos Positivos')\n",
        "plt.ylabel('Tasa de Verdaderos Positivos')\n",
        "plt.title('Curva ROC')\n",
        "plt.legend()"
      ],
      "metadata": {
        "id": "bGyFV-3Yy-XD",
        "outputId": "38c5b5a0-0a00-43cb-8b30-35f6e2e7138f",
        "colab": {
          "base_uri": "https://localhost:8080/",
          "height": 509
        }
      },
      "execution_count": 44,
      "outputs": [
        {
          "output_type": "stream",
          "name": "stdout",
          "text": [
            "Curva ROC AUC: 0.8289473684210527\n"
          ]
        },
        {
          "output_type": "execute_result",
          "data": {
            "text/plain": [
              "<matplotlib.legend.Legend at 0x7817f21865c0>"
            ]
          },
          "metadata": {},
          "execution_count": 44
        },
        {
          "output_type": "display_data",
          "data": {
            "text/plain": [
              "<Figure size 640x480 with 1 Axes>"
            ],
            "image/png": "[encoded data removed]"
          },
          "metadata": {}
        }
      ]
    }
  ]
}